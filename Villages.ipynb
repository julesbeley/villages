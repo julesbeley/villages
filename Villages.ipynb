{
 "cells": [
  {
   "cell_type": "code",
   "execution_count": null,
   "metadata": {},
   "outputs": [],
   "source": [
    "import json\n",
    "import pandas as pd\n",
    "import numpy as np\n",
    "import itertools\n",
    "with open('./Data/all.json') as json_file:\n",
    "    alldata = json.load(json_file)\n",
    "lists = [x for x in alldata if isinstance(x, list)]\n",
    "geometries = [[i['geometry'] for i in lists[k]] for k in range(len(lists))] # replace range(len(x)) ?\n",
    "geometries = [[pd.DataFrame(i) for i in geometries[j]] for j in range(len(geometries))] # replace range(len(x)) ?\n",
    "geometries2 = pd.concat([pd.concat([item.assign(\n",
    "    road = i) for i, item in enumerate(item2)]).assign(\n",
    "    village = h) for h, item2 in enumerate(geometries)])\n",
    "geometries3 = geometries2.assign(tuples = [tuple(x) for x in geometries2[['lat','lon']].to_numpy()])\n",
    "def myzip(x) :\n",
    "    return(pd.DataFrame(list(zip(x[:-1],x[1:]))))\n",
    "geometries4 = geometries3.groupby(['road','village'])['tuples'].apply(myzip)\n",
    "geometries4 = geometries4.reset_index()[['village','road',0,1]].rename(columns = {0:'from',1:'to'})"
   ]
  },
  {
   "cell_type": "code",
   "execution_count": 9,
   "metadata": {},
   "outputs": [
    {
     "name": "stdout",
     "output_type": "stream",
     "text": [
      "         village  road                     from                       to\n",
      "0              0     0  (44.4004207, 4.8015506)  (44.4010405, 4.8023693)\n",
      "1              0     0  (44.4010405, 4.8023693)   (44.401221, 4.8026711)\n",
      "2              0     0   (44.401221, 4.8026711)  (44.4012784, 4.8028895)\n",
      "3              0     0  (44.4012784, 4.8028895)   (44.401264, 4.8030169)\n",
      "4              0     0   (44.401264, 4.8030169)  (44.4012287, 4.8032528)\n",
      "...          ...   ...                      ...                      ...\n",
      "1934096      459  1661  (44.0874565, 6.9392015)  (44.0876147, 6.9391211)\n",
      "1934097      459  1661  (44.0876147, 6.9391211)  (44.0877505, 6.9391107)\n",
      "1934098      459  1661  (44.0877505, 6.9391107)  (44.0879251, 6.9391589)\n",
      "1934099      459  1661  (44.0879251, 6.9391589)  (44.0881261, 6.9392213)\n",
      "1934100      459  1661  (44.0881261, 6.9392213)  (44.0881741, 6.9392262)\n",
      "\n",
      "[1934101 rows x 4 columns]\n",
      "1042\n"
     ]
    }
   ],
   "source": [
    "print(geometries4)\n",
    "print(max(geometries4['village']))"
   ]
  },
  {
   "cell_type": "code",
   "execution_count": null,
   "metadata": {},
   "outputs": [],
   "source": [
    "# find all combinations of segments between roads\n",
    "combin = list(itertools.combinations(testvillage['tuples'],2)) # list defeats the purpose of using iterator"
   ]
  },
  {
   "cell_type": "code",
   "execution_count": null,
   "metadata": {},
   "outputs": [],
   "source": [
    "# filter out combinations within roads\n",
    "testvillagedf = pd.DataFrame()\n",
    "testvillagedf['road'] = list(itertools.combinations(testvillage['road'],2))\n",
    "testvillagedf['tuples'] = list(itertools.combinations(testvillage['tuples'],2))\n",
    "test = []\n",
    "for item in testvillagedf['road'] :\n",
    "    test.append(item[0] != item[1])\n",
    "testvillagedf = testvillagedf[test]\n",
    "print(testvillagedf)"
   ]
  },
  {
   "cell_type": "code",
   "execution_count": null,
   "metadata": {},
   "outputs": [],
   "source": [
    "import isect\n",
    "# example\n",
    "test1 = ((1,1),(0,0))\n",
    "test2 = ((0,1),(1,0))\n",
    "test = isect.isect_segments([test1,test2])\n",
    "print(test)\n",
    "# test"
   ]
  },
  {
   "cell_type": "code",
   "execution_count": null,
   "metadata": {},
   "outputs": [],
   "source": [
    "import isect\n",
    "print(testvillagedf)\n"
   ]
  },
  {
   "cell_type": "code",
   "execution_count": null,
   "metadata": {},
   "outputs": [],
   "source": [
    "import matplotlib.pyplot as plt\n",
    "plt.rcParams['figure.figsize'] = (8,8)\n",
    "def mapall(index) :\n",
    "    for k in range(len(geometries[index])) :\n",
    "        plt.plot(geometries[index][k]['lon'],\n",
    "                 geometries[index][k]['lat'],\n",
    "                color = \"black\")\n",
    "mapall(1)"
   ]
  }
 ],
 "metadata": {
  "kernelspec": {
   "display_name": "Python 3",
   "language": "python",
   "name": "python3"
  },
  "language_info": {
   "codemirror_mode": {
    "name": "ipython",
    "version": 3
   },
   "file_extension": ".py",
   "mimetype": "text/x-python",
   "name": "python",
   "nbconvert_exporter": "python",
   "pygments_lexer": "ipython3",
   "version": "3.7.5"
  }
 },
 "nbformat": 4,
 "nbformat_minor": 2
}
